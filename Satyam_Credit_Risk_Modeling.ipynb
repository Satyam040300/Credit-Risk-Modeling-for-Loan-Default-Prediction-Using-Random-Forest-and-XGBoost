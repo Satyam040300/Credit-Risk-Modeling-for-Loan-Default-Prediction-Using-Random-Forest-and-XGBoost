{
  "nbformat": 4,
  "nbformat_minor": 0,
  "metadata": {
    "colab": {
      "provenance": []
    },
    "kernelspec": {
      "name": "python3",
      "display_name": "Python 3"
    },
    "language_info": {
      "name": "python"
    }
  },
  "cells": [
    {
      "cell_type": "code",
      "execution_count": 1,
      "metadata": {
        "colab": {
          "base_uri": "https://localhost:8080/"
        },
        "id": "rp5WLyTFeQsY",
        "outputId": "633f9bab-04ca-44e8-abf7-dba4434b6ca8"
      },
      "outputs": [
        {
          "output_type": "stream",
          "name": "stderr",
          "text": [
            "/usr/local/lib/python3.11/dist-packages/xgboost/core.py:158: UserWarning: [08:43:32] WARNING: /workspace/src/learner.cc:740: \n",
            "Parameters: { \"use_label_encoder\" } are not used.\n",
            "\n",
            "  warnings.warn(smsg, UserWarning)\n"
          ]
        },
        {
          "output_type": "stream",
          "name": "stdout",
          "text": [
            "\n",
            "Random Forest Model Performance:\n",
            "Accuracy: 0.8285714285714286\n",
            "AUC-ROC: 0.8474153765415902\n",
            "Classification Report:\n",
            "               precision    recall  f1-score   support\n",
            "\n",
            "         0.0       0.86      0.92      0.89       103\n",
            "         1.0       0.72      0.57      0.64        37\n",
            "\n",
            "    accuracy                           0.83       140\n",
            "   macro avg       0.79      0.74      0.76       140\n",
            "weighted avg       0.82      0.83      0.82       140\n",
            "\n",
            "\n",
            "XGBoost Model Performance:\n",
            "Accuracy: 0.7785714285714286\n",
            "AUC-ROC: 0.8105484124901601\n",
            "Classification Report:\n",
            "               precision    recall  f1-score   support\n",
            "\n",
            "         0.0       0.86      0.83      0.85       103\n",
            "         1.0       0.57      0.62      0.60        37\n",
            "\n",
            "    accuracy                           0.78       140\n",
            "   macro avg       0.72      0.73      0.72       140\n",
            "weighted avg       0.78      0.78      0.78       140\n",
            "\n"
          ]
        }
      ],
      "source": [
        "import pandas as pd\n",
        "from sklearn.model_selection import train_test_split\n",
        "from sklearn.preprocessing import StandardScaler\n",
        "from sklearn.ensemble import RandomForestClassifier\n",
        "from xgboost import XGBClassifier\n",
        "from sklearn.metrics import accuracy_score, classification_report, roc_auc_score\n",
        "\n",
        "# Load the dataset\n",
        "df = pd.read_csv(\"bankloans.csv\")\n",
        "\n",
        "# Drop rows with missing target values\n",
        "df_cleaned = df.dropna(subset=['default'])\n",
        "\n",
        "# Define features and target variable\n",
        "X = df_cleaned.drop(columns=['default'])\n",
        "y = df_cleaned['default']\n",
        "\n",
        "# Split into train and test sets (80% train, 20% test)\n",
        "X_train, X_test, y_train, y_test = train_test_split(X, y, test_size=0.2, random_state=42, stratify=y)\n",
        "\n",
        "# Scale numerical features\n",
        "scaler = StandardScaler()\n",
        "X_train_scaled = scaler.fit_transform(X_train)\n",
        "X_test_scaled = scaler.transform(X_test)\n",
        "\n",
        "# Train Random Forest model\n",
        "rf_model = RandomForestClassifier(n_estimators=100, random_state=42)\n",
        "rf_model.fit(X_train_scaled, y_train)\n",
        "rf_preds = rf_model.predict(X_test_scaled)\n",
        "rf_probs = rf_model.predict_proba(X_test_scaled)[:, 1]\n",
        "\n",
        "# Train XGBoost model\n",
        "xgb_model = XGBClassifier(use_label_encoder=False, eval_metric='logloss', random_state=42)\n",
        "xgb_model.fit(X_train_scaled, y_train)\n",
        "xgb_preds = xgb_model.predict(X_test_scaled)\n",
        "xgb_probs = xgb_model.predict_proba(X_test_scaled)[:, 1]\n",
        "\n",
        "# Evaluate models\n",
        "def evaluate_model(name, y_true, y_pred, y_prob):\n",
        "    print(f\"\\n{name} Model Performance:\")\n",
        "    print(\"Accuracy:\", accuracy_score(y_true, y_pred))\n",
        "    print(\"AUC-ROC:\", roc_auc_score(y_true, y_prob))\n",
        "    print(\"Classification Report:\\n\", classification_report(y_true, y_pred))\n",
        "\n",
        "# Display results\n",
        "evaluate_model(\"Random Forest\", y_test, rf_preds, rf_probs)\n",
        "evaluate_model(\"XGBoost\", y_test, xgb_preds, xgb_probs)\n"
      ]
    }
  ]
}